{
 "cells": [
  {
   "cell_type": "markdown",
   "id": "07391150",
   "metadata": {},
   "source": [
    "# Importing Libraries"
   ]
  },
  {
   "cell_type": "code",
   "execution_count": 1,
   "id": "a4113681",
   "metadata": {},
   "outputs": [],
   "source": [
    "# Import Libraries\n",
    "import pandas as pd\n",
    "import numpy as np\n",
    "import os"
   ]
  },
  {
   "cell_type": "markdown",
   "id": "cfa16a61",
   "metadata": {},
   "source": [
    "# working with Python data types"
   ]
  },
  {
   "cell_type": "code",
   "execution_count": 2,
   "id": "6f71c7d1",
   "metadata": {},
   "outputs": [],
   "source": [
    "x = 50\n",
    "y = 50"
   ]
  },
  {
   "cell_type": "code",
   "execution_count": 3,
   "id": "0ac0b7ef",
   "metadata": {},
   "outputs": [
    {
     "data": {
      "text/plain": [
       "100"
      ]
     },
     "execution_count": 3,
     "metadata": {},
     "output_type": "execute_result"
    }
   ],
   "source": [
    "x + y"
   ]
  },
  {
   "cell_type": "code",
   "execution_count": 5,
   "id": "3eeca499",
   "metadata": {},
   "outputs": [
    {
     "data": {
      "text/plain": [
       "100"
      ]
     },
     "execution_count": 5,
     "metadata": {},
     "output_type": "execute_result"
    }
   ],
   "source": [
    "x * 2"
   ]
  },
  {
   "cell_type": "code",
   "execution_count": 7,
   "id": "4bc4309d",
   "metadata": {},
   "outputs": [
    {
     "data": {
      "text/plain": [
       "100"
      ]
     },
     "execution_count": 7,
     "metadata": {},
     "output_type": "execute_result"
    }
   ],
   "source": [
    "x + x"
   ]
  },
  {
   "cell_type": "code",
   "execution_count": 8,
   "id": "0912a120",
   "metadata": {},
   "outputs": [],
   "source": [
    "z = 5.5"
   ]
  },
  {
   "cell_type": "code",
   "execution_count": 9,
   "id": "89eac03a",
   "metadata": {},
   "outputs": [],
   "source": [
    "x = 6.5"
   ]
  },
  {
   "cell_type": "code",
   "execution_count": 10,
   "id": "23866a06",
   "metadata": {},
   "outputs": [
    {
     "data": {
      "text/plain": [
       "1.1818181818181819"
      ]
     },
     "execution_count": 10,
     "metadata": {},
     "output_type": "execute_result"
    }
   ],
   "source": [
    "x/z"
   ]
  },
  {
   "cell_type": "code",
   "execution_count": 12,
   "id": "9ed41848",
   "metadata": {},
   "outputs": [],
   "source": [
    "a = \"laun\""
   ]
  },
  {
   "cell_type": "code",
   "execution_count": 13,
   "id": "dd3f8c7c",
   "metadata": {},
   "outputs": [],
   "source": [
    "b = \"dry\""
   ]
  },
  {
   "cell_type": "code",
   "execution_count": 15,
   "id": "aa75124a",
   "metadata": {},
   "outputs": [
    {
     "data": {
      "text/plain": [
       "'laundry'"
      ]
     },
     "execution_count": 15,
     "metadata": {},
     "output_type": "execute_result"
    }
   ],
   "source": [
    "a + b "
   ]
  },
  {
   "cell_type": "code",
   "execution_count": 18,
   "id": "1d73dd64",
   "metadata": {},
   "outputs": [],
   "source": [
    "c = \"I need to finish my \""
   ]
  },
  {
   "cell_type": "code",
   "execution_count": 21,
   "id": "91de7cd8",
   "metadata": {},
   "outputs": [
    {
     "data": {
      "text/plain": [
       "'I need to finish my laundry.'"
      ]
     },
     "execution_count": 21,
     "metadata": {},
     "output_type": "execute_result"
    }
   ],
   "source": [
    "c + a + b +\".\""
   ]
  },
  {
   "cell_type": "code",
   "execution_count": 23,
   "id": "6d3e1acc",
   "metadata": {},
   "outputs": [],
   "source": [
    "d = \"It's in the dryer.\""
   ]
  },
  {
   "cell_type": "code",
   "execution_count": 27,
   "id": "155991d2",
   "metadata": {},
   "outputs": [
    {
     "data": {
      "text/plain": [
       "\"I need to finish my laundry. It's in the dryer.\""
      ]
     },
     "execution_count": 27,
     "metadata": {},
     "output_type": "execute_result"
    }
   ],
   "source": [
    "c + a + b + \". \" + d"
   ]
  },
  {
   "cell_type": "code",
   "execution_count": 28,
   "id": "f9e6e695",
   "metadata": {},
   "outputs": [
    {
     "data": {
      "text/plain": [
       "'laundrylaundrylaundrylaundrylaundrylaundrylaundrylaundrylaundrylaundrylaundrylaundrylaundrylaundrylaundrylaundrylaundrylaundrylaundrylaundrylaundrylaundrylaundrylaundrylaundrylaundrylaundrylaundrylaundrylaundrylaundrylaundrylaundrylaundrylaundrylaundrylaundrylaundrylaundrylaundrylaundrylaundrylaundrylaundrylaundrylaundrylaundrylaundrylaundrylaundrylaundrylaundrylaundrylaundrylaundrylaundrylaundrylaundrylaundrylaundrylaundrylaundrylaundrylaundrylaundrylaundrylaundrylaundrylaundrylaundrylaundrylaundrylaundrylaundrylaundrylaundrylaundrylaundrylaundrylaundrylaundrylaundrylaundrylaundrylaundrylaundrylaundrylaundrylaundrylaundrylaundrylaundrylaundrylaundrylaundrylaundrylaundrylaundrylaundrylaundry'"
      ]
     },
     "execution_count": 28,
     "metadata": {},
     "output_type": "execute_result"
    }
   ],
   "source": [
    "(a+b)*100"
   ]
  },
  {
   "cell_type": "code",
   "execution_count": null,
   "id": "7130a1a3",
   "metadata": {},
   "outputs": [],
   "source": []
  }
 ],
 "metadata": {
  "kernelspec": {
   "display_name": "Python 3 (ipykernel)",
   "language": "python",
   "name": "python3"
  },
  "language_info": {
   "codemirror_mode": {
    "name": "ipython",
    "version": 3
   },
   "file_extension": ".py",
   "mimetype": "text/x-python",
   "name": "python",
   "nbconvert_exporter": "python",
   "pygments_lexer": "ipython3",
   "version": "3.10.9"
  }
 },
 "nbformat": 4,
 "nbformat_minor": 5
}
